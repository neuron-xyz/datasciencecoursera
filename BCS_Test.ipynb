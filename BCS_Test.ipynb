{
  "nbformat": 4,
  "nbformat_minor": 0,
  "metadata": {
    "colab": {
      "name": "BCS-Test.ipynb",
      "provenance": [],
      "include_colab_link": true
    },
    "kernelspec": {
      "name": "python3",
      "display_name": "Python 3"
    }
  },
  "cells": [
    {
      "cell_type": "markdown",
      "metadata": {
        "id": "view-in-github",
        "colab_type": "text"
      },
      "source": [
        "<a href=\"https://colab.research.google.com/github/neuron-xyz/datasciencecoursera/blob/master/BCS_Test.ipynb\" target=\"_parent\"><img src=\"https://colab.research.google.com/assets/colab-badge.svg\" alt=\"Open In Colab\"/></a>"
      ]
    },
    {
      "cell_type": "code",
      "metadata": {
        "id": "pqsJ0iyPN_pL",
        "colab_type": "code",
        "colab": {}
      },
      "source": [
        "!git clone https://github.com/XianBueno/NLDR-Tutorial.git\n",
        "!pip install plotly_express==0.4.0\n",
        "!mv NLDR-Tutorial/* .\n",
        "!rm -r NLDR-Tutorial/"
      ],
      "execution_count": null,
      "outputs": []
    },
    {
      "cell_type": "code",
      "metadata": {
        "id": "gEvzbgN-OPLG",
        "colab_type": "code",
        "colab": {}
      },
      "source": [
        "# Import standard libraries\n",
        "import numpy as np\n",
        "import pandas as pd\n",
        "import plotly_express as px\n",
        "\n",
        "# Import dataset generating libraries\n",
        "import sample\n",
        "from sklearn import datasets\n",
        "\n",
        "# Import NLDR-related libraries \n",
        "from diffusionMap import DiffusionMap\n",
        "from sklearn.decomposition import PCA\n",
        "from sklearn.manifold import TSNE, Isomap, MDS, SpectralEmbedding"
      ],
      "execution_count": null,
      "outputs": []
    },
    {
      "cell_type": "markdown",
      "metadata": {
        "id": "Ay1P_27ShyyI",
        "colab_type": "text"
      },
      "source": [
        "First we will sample a trefoil knot in 3D space. This will form a nice data set that cannot be linearly projected to 2D without collapsing meaningful structure. On the other hand, we know that intrinsically it is no different than a circle and so there exists a way to nonlinearly map to that shape. \n",
        "\n",
        "We will apply PCA, MDS, Isomap, Spectral Embedding (which is Laplacian Eigenmap), and Diffusion Maps (with $\\alpha=0,1$). How do you think each will perform?"
      ]
    },
    {
      "cell_type": "code",
      "metadata": {
        "id": "LARkpaGHhWQp",
        "colab_type": "code",
        "colab": {}
      },
      "source": [
        "# Sample a trefoil knot \n",
        "# Observations are [t,x,y,z]\n",
        "tref = sample.trefoil(N=500)\n",
        "\n",
        "# Visualize Trefoil Knot\n",
        "fig = px.scatter_3d(x=tref[:,1], y=tref[:,2], z=tref[:,3],color=tref[:,0], \n",
        "                    color_continuous_scale='hsv')\n",
        "fig.update(layout_coloraxis_showscale=False)\n",
        "fig.show()"
      ],
      "execution_count": null,
      "outputs": []
    },
    {
      "cell_type": "markdown",
      "metadata": {
        "id": "N2iFAfR1hlM8",
        "colab_type": "text"
      },
      "source": [
        "Next we will fit the various NLDR methods with the trefoil knot sampling data. "
      ]
    },
    {
      "cell_type": "code",
      "metadata": {
        "id": "rvYIYyQxhdSI",
        "colab_type": "code",
        "colab": {}
      },
      "source": [
        "# Dictionaries for results\n",
        "names = {'pca','iso','mds','tsne','leig','dfm0','dfm1'}\n",
        "tref_dic = {}\n",
        "fullname = {}\n",
        "\n",
        "# Fit PCA\n",
        "tref_dic['pca'] = PCA(n_components=2).fit_transform(tref[:,1:])\n",
        "fullname['pca'] = 'PCA'\n",
        "\n",
        "# Fit Isomap (can play with number of neighbors)\n",
        "tref_dic['iso'] = Isomap(n_neighbors=5, n_components=2).fit_transform(tref[:,1:])\n",
        "fullname['iso'] = 'Isomap'\n",
        "\n",
        "# Fit MDS\n",
        "tref_dic['mds'] = MDS(n_components=2, max_iter=1000).fit_transform(tref[:,1:])\n",
        "fullname['mds'] = 'MDS'\n",
        "\n",
        "# Fit TSNE\n",
        "tref_dic['tsne'] = TSNE(n_components=2).fit_transform(tref[:,1:])\n",
        "fullname['tsne'] = 't-SNE'\n",
        "\n",
        "# Fit Laplacian Eigenmap\n",
        "tref_dic['leig'] =  SpectralEmbedding(n_components=2).fit_transform(tref[:,1:])\n",
        "fullname['leig'] = 'Laplacian Eigenmap (sklearn)'\n",
        "\n",
        "# Fit Diffusion Map w/ alpha = 0 (can play with eps)\n",
        "tref_dfm0 = DiffusionMap(tref[:,1:])\n",
        "tref_dfm0.train(eps=.1,alpha=0, p=3)\n",
        "tref_dic['dfm0'] = tref_dfm0.pts_dfm[:,1:]\n",
        "fullname['dfm0'] = r'$\\text{Diffusion Map with } \\alpha=0$'\n",
        "\n",
        "# Fit Diffusion Map w/ alpha = 1 (can play with eps)\n",
        "tref_dfm1 = DiffusionMap(tref[:,1:])\n",
        "tref_dfm1.train(eps=.1,alpha=1, p=3)\n",
        "tref_dic['dfm1'] = tref_dfm1.pts_dfm[:,1:]\n",
        "fullname['dfm1'] = r'$\\text{Diffusion Map with } \\alpha=1$'"
      ],
      "execution_count": null,
      "outputs": []
    },
    {
      "cell_type": "code",
      "metadata": {
        "id": "k0rD1mF6LBti",
        "colab_type": "code",
        "colab": {}
      },
      "source": [
        "# Plot all the 2D embeddings of trefoil\n",
        "for name in tref_dic:\n",
        "  fig = px.scatter(x=tref_dic[name][:,0], y=tref_dic[name][:,1], color=tref[:,0], \n",
        "                    color_continuous_scale='hsv', \n",
        "                    title=f'2D {fullname[name]} plot of Trefoil')\n",
        "  fig.update_layout(xaxis_title='Component 1', yaxis_title='Component 2')\n",
        "  fig.update(layout_coloraxis_showscale=False)\n",
        "  fig.update_yaxes(scaleanchor = \"x\", scaleratio = 1) # Fixed aspect ratio\n",
        "  fig.show()"
      ],
      "execution_count": null,
      "outputs": []
    },
    {
      "cell_type": "markdown",
      "metadata": {
        "id": "OyH9wAnwiXXP",
        "colab_type": "text"
      },
      "source": [
        "As expected, PCA failed to disentangle the knot. Your t-SNE may or may not have had a good result, that is partly based on chance. \n",
        "\n",
        "Also notice the effect of $\\alpha$ in diffusion maps. You can try and play with the parameters of the NLDR methods to see if you can get better or worse embeddings. \n",
        "\n",
        "Next we will do the same process with a noisy trefoil knot."
      ]
    },
    {
      "cell_type": "code",
      "metadata": {
        "id": "t1pAF64Filha",
        "colab_type": "code",
        "colab": {}
      },
      "source": [
        "# Same thing but this time with noise\n",
        "# Observations are [t,x,y,z]\n",
        "tref_noisy = sample.trefoil(N=500, noise=.2)\n",
        "\n",
        "# Visualize noisy Trefoil Knot\n",
        "fig = px.scatter_3d(x=tref_noisy[:,1], y=tref_noisy[:,2], z=tref_noisy[:,3],color=tref_noisy[:,0], \n",
        "                    color_continuous_scale='hsv')\n",
        "fig.update(layout_coloraxis_showscale=False)\n",
        "fig.show()"
      ],
      "execution_count": null,
      "outputs": []
    },
    {
      "cell_type": "code",
      "metadata": {
        "id": "O1ixXTQIiqOj",
        "colab_type": "code",
        "colab": {}
      },
      "source": [
        "# Dictionary for noisy trefoil results\n",
        "tref_noisy_dic = {}\n",
        "\n",
        "# Fit PCA\n",
        "tref_noisy_dic['pca'] = PCA(n_components=2).fit_transform(tref_noisy[:,1:])\n",
        "\n",
        "# Fit Isomap (can play with number of neighbors)\n",
        "tref_noisy_dic['iso'] = Isomap(n_neighbors=5, n_components=2).fit_transform(tref_noisy[:,1:])\n",
        "\n",
        "# Fit MDS\n",
        "tref_noisy_dic['mds'] = MDS(n_components=2).fit_transform(tref_noisy[:,1:])\n",
        "\n",
        "# Fit TSNE\n",
        "tref_noisy_dic['tsne'] = TSNE(n_components=2).fit_transform(tref_noisy[:,1:])\n",
        "\n",
        "# Fit Laplacian Eigenmap\n",
        "tref_noisy_dic['leig'] = SpectralEmbedding(n_components=2).fit_transform(tref_noisy[:,1:])\n",
        "\n",
        "# Fit Diffusion Map w/ alpha = 0 (can play with eps)\n",
        "tref_noisy_dfm0 = DiffusionMap(tref_noisy[:,1:])\n",
        "tref_noisy_dfm0.train(eps=.1,alpha=0, p=3)\n",
        "tref_noisy_dic['dfm0'] = tref_noisy_dfm0.pts_dfm[:,1:]\n",
        "\n",
        "# Fit Diffusion Map w/ alpha = 1 (can play with eps)\n",
        "tref_noisy_dfm1 = DiffusionMap(tref_noisy[:,1:])\n",
        "tref_noisy_dfm1.train(eps=.1,alpha=1, p=3)\n",
        "tref_noisy_dic['dfm1'] = tref_noisy_dfm1.pts_dfm[:,1:]"
      ],
      "execution_count": null,
      "outputs": []
    },
    {
      "cell_type": "code",
      "metadata": {
        "id": "-d4Lkw-2_ZxD",
        "colab_type": "code",
        "colab": {}
      },
      "source": [
        "# Plot all 2D embeddings of noisy trefoil\n",
        "for name in tref_dic:\n",
        "  fig = px.scatter(x=tref_noisy_dic[name][:,0], y=tref_noisy_dic[name][:,1], color=tref_noisy[:,0], \n",
        "                    color_continuous_scale='hsv', \n",
        "                    title=f'2D {fullname[name]} plot of Trefoil')\n",
        "  fig.update_layout(xaxis_title='Component 1', yaxis_title='Component 2')\n",
        "  fig.update(layout_coloraxis_showscale=False)\n",
        "  fig.update_yaxes(scaleanchor = \"x\", scaleratio = 1) # Fixed aspect ratio\n",
        "  fig.show()"
      ],
      "execution_count": null,
      "outputs": []
    },
    {
      "cell_type": "markdown",
      "metadata": {
        "id": "kEloN2fc8dDk",
        "colab_type": "text"
      },
      "source": [
        "Next up we will study a noisy spiral with our NLDR methods. If you ignore the noise, this data set is intrinsically 1D and so we should be able to make some good predictions."
      ]
    },
    {
      "cell_type": "code",
      "metadata": {
        "id": "ELPT6Yz-Bft9",
        "colab_type": "code",
        "colab": {}
      },
      "source": [
        "# Sample a noisy spiral \n",
        "# Observations are [t,x,y]\n",
        "spiral = sample.spiral(N=500, noise=.05, maxangle=4*np.pi)\n",
        "\n",
        "# Visualize noisy spiral\n",
        "fig = px.scatter(x=spiral[:,1], y=spiral[:,2],color=spiral[:,0], \n",
        "                    color_continuous_scale='rainbow')\n",
        "fig.update(layout_coloraxis_showscale=False)\n",
        "fig.show()"
      ],
      "execution_count": null,
      "outputs": []
    },
    {
      "cell_type": "code",
      "metadata": {
        "id": "45nLKDt1DKG9",
        "colab_type": "code",
        "colab": {}
      },
      "source": [
        "# Dictionaries for results\n",
        "spiral_dic = {}\n",
        "\n",
        "# Fit PCA\n",
        "spiral_dic['pca'] = PCA(n_components=2).fit_transform(spiral[:,1:])\n",
        "\n",
        "# Fit Isomap (can play with number of neighbors)\n",
        "spiral_dic['iso'] = Isomap(n_neighbors=5, n_components=2).fit_transform(spiral[:,1:])\n",
        "\n",
        "# Fit MDS\n",
        "spiral_dic['mds'] = MDS(n_components=2, max_iter=1000).fit_transform(spiral[:,1:])\n",
        "\n",
        "# Fit TSNE\n",
        "spiral_dic['tsne'] = TSNE(n_components=2).fit_transform(spiral[:,1:])\n",
        "\n",
        "# Fit Laplacian Eigenmap\n",
        "spiral_dic['leig'] =  SpectralEmbedding(n_components=2).fit_transform(spiral[:,1:])\n",
        "\n",
        "# Fit Diffusion Map w/ alpha = 0 (can play with eps)\n",
        "spiral_dfm0 = DiffusionMap(spiral[:,1:])\n",
        "spiral_dfm0.train(eps=.1,alpha=0, p=3)\n",
        "spiral_dic['dfm0'] = spiral_dfm0.pts_dfm[:,1:]\n",
        "\n",
        "# Fit Diffusion Map w/ alpha = 1 (can play with eps)\n",
        "spiral_dfm1 = DiffusionMap(spiral[:,1:])\n",
        "spiral_dfm1.train(eps=.1,alpha=1, p=3)\n",
        "spiral_dic['dfm1'] = spiral_dfm1.pts_dfm[:,1:]"
      ],
      "execution_count": null,
      "outputs": []
    },
    {
      "cell_type": "code",
      "metadata": {
        "id": "QDugLBPtDi_E",
        "colab_type": "code",
        "colab": {}
      },
      "source": [
        "# Plot all 2D embeddings of noisy spiral\n",
        "for name in spiral_dic:\n",
        "  fig = px.scatter(x=spiral_dic[name][:,0], y=spiral_dic[name][:,1], color=spiral[:,0], \n",
        "                    color_continuous_scale='rainbow', \n",
        "                    title=f'2D {fullname[name]} plot of Spiral')\n",
        "  fig.update_layout(xaxis_title='Component 1', yaxis_title='Component 2')\n",
        "  fig.update(layout_coloraxis_showscale=False)\n",
        "  fig.update_yaxes(scaleanchor = \"x\", scaleratio = 1) # Fixed aspect ratio\n",
        "  fig.show()"
      ],
      "execution_count": null,
      "outputs": []
    },
    {
      "cell_type": "markdown",
      "metadata": {
        "id": "1qKLD_DXzAbi",
        "colab_type": "text"
      },
      "source": [
        "Isomap likely did quite well since the geodesic distance on a spiral can be reproduced exactly within 1D Euclidean space. The noise may have made it more difficult however. Also notice the U shape of the $\\alpha=1$ diffusion map. Why do you think that happened? In what other situations would that happen?"
      ]
    },
    {
      "cell_type": "markdown",
      "metadata": {
        "id": "PbXWc-M1zjOl",
        "colab_type": "text"
      },
      "source": [
        "Next we will run the same battery of tests on a helix shaped data set."
      ]
    },
    {
      "cell_type": "code",
      "metadata": {
        "id": "CM_lx-TLE_Af",
        "colab_type": "code",
        "colab": {}
      },
      "source": [
        "# Sample a helix \n",
        "# Observations are [t,x,y,z]\n",
        "N=1000\n",
        "helix = np.hstack((sample.circle(N=N, maxangle=6*np.pi),sample.line(N=N)))\n",
        "\n",
        "# Visualize helix\n",
        "fig = px.scatter_3d(x=helix[:,1], y=helix[:,2], z=helix[:,3], color=helix[:,0], \n",
        "                    color_continuous_scale='rainbow')\n",
        "fig.update(layout_coloraxis_showscale=False)\n",
        "fig.show()"
      ],
      "execution_count": null,
      "outputs": []
    },
    {
      "cell_type": "code",
      "metadata": {
        "id": "QziItWz0Hc2g",
        "colab_type": "code",
        "colab": {}
      },
      "source": [
        "# Dictionaries for results\n",
        "helix_dic = {}\n",
        "\n",
        "# Fit PCA\n",
        "helix_dic['pca'] = PCA(n_components=2).fit_transform(helix[:,1:])\n",
        "\n",
        "# Fit Isomap (can play with number of neighbors)\n",
        "helix_dic['iso'] = Isomap(n_neighbors=5, n_components=2).fit_transform(helix[:,1:])\n",
        "\n",
        "# Fit MDS\n",
        "helix_dic['mds'] = MDS(n_components=2, max_iter=1000,).fit_transform(helix[:,1:])\n",
        "\n",
        "# Fit TSNE\n",
        "helix_dic['tsne'] = TSNE(n_components=2, perplexity=30, n_iter=1000).fit_transform(helix[:,1:])\n",
        "\n",
        "# Fit Laplacian Eigenmap\n",
        "helix_dic['leig'] =  SpectralEmbedding(n_components=2).fit_transform(helix[:,1:])\n",
        "\n",
        "# Fit Diffusion Map w/ alpha = 0 (can play with eps)\n",
        "helix_dfm0 = DiffusionMap(helix[:,1:])\n",
        "helix_dfm0.train(eps=.1,alpha=0, p=3)\n",
        "helix_dic['dfm0'] = helix_dfm0.pts_dfm[:,1:]\n",
        "\n",
        "# Fit Diffusion Map w/ alpha = 1 (can play with eps)\n",
        "helix_dfm1 = DiffusionMap(helix[:,1:])\n",
        "helix_dfm1.train(eps=.01,alpha=1, p=3)\n",
        "helix_dic['dfm1'] = helix_dfm1.pts_dfm[:,1:]"
      ],
      "execution_count": null,
      "outputs": []
    },
    {
      "cell_type": "code",
      "metadata": {
        "id": "GDWBHD0VI89T",
        "colab_type": "code",
        "colab": {}
      },
      "source": [
        "# Plot all 2D embeddings of helix\n",
        "for name in helix_dic:\n",
        "  fig = px.scatter(x=helix_dic[name][:,0], y=helix_dic[name][:,1], color=helix[:,0], \n",
        "                    color_continuous_scale='rainbow', \n",
        "                    title=f'2D {fullname[name]} plot of helix')\n",
        "  fig.update_layout(xaxis_title='Component 1', yaxis_title='Component 2')\n",
        "  fig.update(layout_coloraxis_showscale=False)\n",
        "  fig.update_yaxes(scaleanchor = \"x\", scaleratio = 1) # Fixed aspect ratio\n",
        "  fig.show()"
      ],
      "execution_count": null,
      "outputs": []
    },
    {
      "cell_type": "markdown",
      "metadata": {
        "id": "7uqQWdul7EGe",
        "colab_type": "text"
      },
      "source": [
        "This next example will be the flat torus.\n",
        "\n",
        "The flat torus is effectively Pac-Man's world. There are periodic boundary conditions but no curvature. We can realize this abstract manifold in $R^4$ by using the map $(\\theta,\\phi)\\mapsto (\\cos\\theta,\\sin\\theta,\\cos\\phi,\\sin\\phi)$. It is a well know fact that there is no to ***smoothly*** isometrically embed the flat torus into $R^3$. And so all of these embeddings will have faults."
      ]
    },
    {
      "cell_type": "code",
      "metadata": {
        "id": "m5av52QRMDGE",
        "colab_type": "code",
        "colab": {}
      },
      "source": [
        "# Sample a flat torus\n",
        "# Observations are [x,y,z,w]\n",
        "torus = sample.flatTorus(900)\n",
        "\n",
        "# Visualize helix\n",
        "fig = px.scatter_3d(x=torus[:,0], y=torus[:,1], z=torus[:,2], color=torus[:,0], \n",
        "                    color_continuous_scale='hsv')\n",
        "fig.update(layout_coloraxis_showscale=False)\n",
        "fig.show()"
      ],
      "execution_count": null,
      "outputs": []
    },
    {
      "cell_type": "code",
      "metadata": {
        "id": "WLvFdAB-UROv",
        "colab_type": "code",
        "colab": {}
      },
      "source": [
        "# Dictionaries for results\n",
        "torus_dic = {}\n",
        "\n",
        "# Fit PCA\n",
        "torus_dic['pca'] = PCA(n_components=3).fit_transform(torus)\n",
        "\n",
        "# Fit Isomap (can play with number of neighbors)\n",
        "torus_dic['iso'] = Isomap(n_components=3, n_neighbors=5).fit_transform(torus)\n",
        "\n",
        "# Fit MDS\n",
        "torus_dic['mds'] = MDS(n_components=3, max_iter=1000,).fit_transform(torus)\n",
        "\n",
        "# Fit TSNE\n",
        "torus_dic['tsne'] = TSNE(n_components=3, perplexity=50, n_iter=2000).fit_transform(torus)\n",
        "\n",
        "# Fit Laplacian Eigenmap\n",
        "torus_dic['leig'] =  SpectralEmbedding(n_components=3).fit_transform(torus)\n",
        "\n",
        "# Fit Diffusion Map w/ alpha = 0 (can play with eps)\n",
        "torus_dfm0 = DiffusionMap(torus)\n",
        "torus_dfm0.train(eps=.01,alpha=0, p=4)\n",
        "torus_dic['dfm0'] = torus_dfm0.pts_dfm[:,1:]\n",
        "\n",
        "# Fit Diffusion Map w/ alpha = 1 (can play with eps)\n",
        "torus_dfm1 = DiffusionMap(torus)\n",
        "torus_dfm1.train(eps=.01,alpha=1, p=4)\n",
        "torus_dic['dfm1'] = torus_dfm1.pts_dfm[:,1:]"
      ],
      "execution_count": null,
      "outputs": []
    },
    {
      "cell_type": "code",
      "metadata": {
        "id": "ci_JZ8vWUo2a",
        "colab_type": "code",
        "colab": {}
      },
      "source": [
        "# Plot all 3D embeddings of torus\n",
        "for name in torus_dic:\n",
        "  fig = px.scatter_3d(x=torus_dic[name][:,0], y=torus_dic[name][:,1], \n",
        "                      z=torus_dic[name][:,2], color=torus[:,0], \n",
        "                    color_continuous_scale='hsv', \n",
        "                    title=f'2D {fullname[name]} plot of torus')\n",
        "  fig.update_layout(xaxis_title='Component 1', yaxis_title='Component 2')\n",
        "  fig.update(layout_coloraxis_showscale=False)\n",
        "  fig.update_yaxes(scaleanchor = \"x\", scaleratio = 1) # Fixed aspect ratio\n",
        "  fig.show()"
      ],
      "execution_count": null,
      "outputs": []
    },
    {
      "cell_type": "markdown",
      "metadata": {
        "id": "-zgUrFv76o7M",
        "colab_type": "text"
      },
      "source": [
        "Finally we will apply these techniques on the digits dataset and embed the points into 3D space. This will be a much trickier test for some of these methods."
      ]
    },
    {
      "cell_type": "code",
      "metadata": {
        "id": "OPB-X1IPk244",
        "colab_type": "code",
        "colab": {
          "base_uri": "https://localhost:8080/",
          "height": 34
        },
        "outputId": "6601b7b9-1ade-4f7a-bbab-21338613b85a"
      },
      "source": [
        "digits_data = datasets.load_digits()\n",
        "\n",
        "# n_imgs = 1797, 8x8 images\n",
        "n_imgs = len(digits_data.images)\n",
        "digits = digits_data.images.reshape((n_imgs, -1))\n",
        "digits.shape"
      ],
      "execution_count": null,
      "outputs": [
        {
          "output_type": "execute_result",
          "data": {
            "text/plain": [
              "(1797, 64)"
            ]
          },
          "metadata": {
            "tags": []
          },
          "execution_count": 45
        }
      ]
    },
    {
      "cell_type": "code",
      "metadata": {
        "id": "QSP1Iat7lt99",
        "colab_type": "code",
        "colab": {}
      },
      "source": [
        "# Dictionaries for results\n",
        "digits_dic = {}\n",
        "\n",
        "# Fit PCA\n",
        "digits_dic['pca'] = PCA(n_components=3).fit_transform(digits)\n",
        "\n",
        "# Fit Isomap (can play with number of neighbors)\n",
        "digits_dic['iso'] = Isomap(n_components=3, n_neighbors=5).fit_transform(digits)\n",
        "\n",
        "# Fit MDS\n",
        "digits_dic['mds'] = MDS(n_components=3, max_iter=1000,).fit_transform(digits)\n",
        "\n",
        "# Fit TSNE\n",
        "digits_dic['tsne'] = TSNE(n_components=3, perplexity=30, n_iter=1000).fit_transform(digits)\n",
        "\n",
        "# Fit Laplacian Eigenmap\n",
        "digits_dic['leig'] =  SpectralEmbedding(n_components=3).fit_transform(digits)"
      ],
      "execution_count": null,
      "outputs": []
    },
    {
      "cell_type": "code",
      "metadata": {
        "id": "6-dKiIFGqId0",
        "colab_type": "code",
        "colab": {}
      },
      "source": [
        "# Fit Diffusion Map w/ alpha = 0 (can play with eps)\n",
        "digits_dfm0 = DiffusionMap(digits)\n",
        "digits_dfm0.train(eps=10,alpha=0, p=4)\n",
        "digits_dic['dfm0'] = digits_dfm0.pts_dfm[:,1:]\n",
        "\n",
        "# Fit Diffusion Map w/ alpha = 1 (can play with eps)\n",
        "digits_dfm1 = DiffusionMap(digits)\n",
        "digits_dfm1.train(eps=10,alpha=1, p=4)\n",
        "digits_dic['dfm1'] = digits_dfm1.pts_dfm[:,1:]"
      ],
      "execution_count": null,
      "outputs": []
    },
    {
      "cell_type": "code",
      "metadata": {
        "id": "PPlQWdbFpKrI",
        "colab_type": "code",
        "colab": {}
      },
      "source": [
        "# Plot all 3D embeddings of digits\n",
        "for name in digits_dic:\n",
        "  fig = px.scatter_3d(x=digits_dic[name][:,0], y=digits_dic[name][:,1], \n",
        "                      z=digits_dic[name][:,2], color=digits_data.target, \n",
        "                    color_continuous_scale='hsv', \n",
        "                    title=f'3D {fullname[name]} plot of digits')\n",
        "  fig.update_layout(xaxis_title='Component 1', yaxis_title='Component 2')\n",
        "  fig.update(layout_coloraxis_showscale=False)\n",
        "  fig.update_yaxes(scaleanchor = \"x\", scaleratio = 1) # Fixed aspect ratio\n",
        "  fig.show()"
      ],
      "execution_count": null,
      "outputs": []
    }
  ]
}